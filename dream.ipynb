{
 "cells": [
  {
   "cell_type": "code",
   "execution_count": null,
   "metadata": {},
   "outputs": [],
   "source": [
    "from PIL import Image, ImageFilter, ImageChops\n",
    "import numpy as np\n",
    "\n",
    "import torch\n",
    "import torch.nn as nn\n",
    "import torchvision\n",
    "import torchvision.transforms as transforms"
   ]
  },
  {
   "cell_type": "code",
   "execution_count": null,
   "metadata": {},
   "outputs": [],
   "source": [
    "LOAD_PATH = \"nsfw.pth\"\n",
    "DEVICE = torch.device(\"cuda:0\" if torch.cuda.is_available() else \"cpu\")"
   ]
  },
  {
   "cell_type": "code",
   "execution_count": null,
   "metadata": {},
   "outputs": [],
   "source": [
    "preprocess = transforms.Compose([\n",
    "    transforms.ToTensor(),\n",
    "    transforms.Normalize([0.485, 0.456, 0.406], [0.229, 0.224, 0.225])\n",
    "])\n",
    "\n",
    "deprocess = lambda x: x * torch.Tensor([0.229, 0.224, 0.225]).to(DEVICE) + \\\n",
    "        torch.Tensor([0.485, 0.456, 0.406]).to(DEVICE)"
   ]
  },
  {
   "cell_type": "code",
   "execution_count": null,
   "metadata": {},
   "outputs": [],
   "source": [
    "model = torchvision.models.googlenet()\n",
    "model.fc = nn.Linear(model.fc.in_features, 148)\n",
    "model.load_state_dict(torch.load(LOAD_PATH))\n",
    "model = model.to(DEVICE)\n",
    "model.eval()"
   ]
  },
  {
   "cell_type": "code",
   "execution_count": null,
   "metadata": {},
   "outputs": [],
   "source": [
    "def make_step(model, image, end, channels, iterations, step):\n",
    "    x = preprocess(image).unsqueeze(0).to(DEVICE)\n",
    "    x.requires_grad = True\n",
    "\n",
    "    model.zero_grad()\n",
    "\n",
    "    for i in range(iterations):\n",
    "        y = x\n",
    "\n",
    "        for (name, child) in model.named_children():\n",
    "            y = child(y)\n",
    "            if name == end:\n",
    "                break\n",
    "\n",
    "        loss = y[:, channels[0]:channels[1], :, :].norm()\n",
    "        loss.backward()\n",
    "\n",
    "        x.data = x.data + step * x.grad.data\n",
    "\n",
    "    return x"
   ]
  },
  {
   "cell_type": "code",
   "execution_count": null,
   "metadata": {},
   "outputs": [],
   "source": [
    "def deep_dream(model, image, end, channels, iterations, step, octave_scale, num_octave):\n",
    "    if num_octave > 0:\n",
    "        new_image = image.filter(ImageFilter.GaussianBlur(2))\n",
    "\n",
    "        if(new_image.size[0] / octave_scale < 1 or new_image.size[1] / octave_scale < 1):\n",
    "            size = new_image.size\n",
    "        else:\n",
    "            size = (int(new_image.size[0] / octave_scale), int(new_image.size[1] / octave_scale))\n",
    "        new_image = new_image.resize(size, Image.ANTIALIAS)\n",
    "\n",
    "        new_image = deep_dream(model, new_image, end, channels, iterations, step, octave_scale, num_octave - 1)\n",
    "\n",
    "        new_image = new_image.resize(image.size, Image.ANTIALIAS)\n",
    "        image = ImageChops.blend(image, new_image, 0.6)\n",
    "\n",
    "    ret = make_step(model, image, end, channels, iterations, step)\n",
    "\n",
    "    ret = ret.data.squeeze()\n",
    "    ret = ret.transpose(0, 1)\n",
    "    ret = ret.transpose(1, 2)\n",
    "    ret = deprocess(ret).clamp(0, 1)\n",
    "\n",
    "    return Image.fromarray(np.uint8(ret.cpu() * 255)).resize(image.size)"
   ]
  },
  {
   "cell_type": "code",
   "execution_count": null,
   "metadata": {},
   "outputs": [],
   "source": [
    "image = Image.open('sky.jpg')\n",
    "deep_dream(model, image, end=\"inception4c\", channels=CHANNELS, iterations=10,\n",
    "           step=1.5, octave_scale=1.4, num_octave=4)"
   ]
  }
 ],
 "metadata": {
  "kernelspec": {
   "display_name": "Python 3",
   "language": "python",
   "name": "python3"
  },
  "language_info": {
   "codemirror_mode": {
    "name": "ipython",
    "version": 3
   },
   "file_extension": ".py",
   "mimetype": "text/x-python",
   "name": "python",
   "nbconvert_exporter": "python",
   "pygments_lexer": "ipython3",
   "version": "3.7.6"
  }
 },
 "nbformat": 4,
 "nbformat_minor": 4
}

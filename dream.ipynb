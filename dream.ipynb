{
 "cells": [
  {
   "cell_type": "code",
   "execution_count": null,
   "metadata": {},
   "outputs": [],
   "source": [
    "import numpy as np\n",
    "import scipy.ndimage as nd\n",
    "from PIL import Image\n",
    "\n",
    "import torch\n",
    "import torch.nn as nn\n",
    "import torchvision\n",
    "import torchvision.transforms as transforms"
   ]
  },
  {
   "cell_type": "code",
   "execution_count": null,
   "metadata": {},
   "outputs": [],
   "source": [
    "LOAD_PATH = \"nsfw.pth\"\n",
    "DEVICE = torch.device(\"cuda:0\" if torch.cuda.is_available() else \"cpu\")"
   ]
  },
  {
   "cell_type": "code",
   "execution_count": null,
   "metadata": {},
   "outputs": [],
   "source": [
    "preprocess = transforms.Compose([\n",
    "    transforms.ToTensor(),\n",
    "    transforms.Normalize([0.485, 0.456, 0.406], [0.229, 0.224, 0.225])\n",
    "])\n",
    "\n",
    "deprocess = lambda x: x * torch.Tensor([0.229, 0.224, 0.225]).to(DEVICE) + \\\n",
    "        torch.Tensor([0.485, 0.456, 0.406]).to(DEVICE)"
   ]
  },
  {
   "cell_type": "code",
   "execution_count": null,
   "metadata": {},
   "outputs": [],
   "source": [
    "model = torchvision.models.googlenet()\n",
    "model.fc = nn.Linear(model.fc.in_features, 148)\n",
    "model.load_state_dict(torch.load(LOAD_PATH))\n",
    "model = model.to(DEVICE)\n",
    "model.eval()"
   ]
  },
  {
   "cell_type": "code",
   "execution_count": null,
   "metadata": {},
   "outputs": [],
   "source": [
    "def make_step(model, x, end, step):\n",
    "    x.requires_grad = True\n",
    "    model.zero_grad()\n",
    "\n",
    "    y = x\n",
    "    for (name, child) in model.named_children():\n",
    "        y = child(y)\n",
    "        if name == end:\n",
    "            break\n",
    "    # y = model.inception4d.branch1(y)\n",
    "\n",
    "    loss = y.norm()\n",
    "    loss.backward()\n",
    "    x.data = x.data + step * x.grad.data\n",
    "\n",
    "    x.requires_grad = False\n",
    "\n",
    "    return x"
   ]
  },
  {
   "cell_type": "code",
   "execution_count": null,
   "metadata": {},
   "outputs": [],
   "source": [
    "def deep_dream(model, base_img, end, iterations, step, octave_scale, num_octave):\n",
    "    img_tensor = preprocess(base_img).unsqueeze(0)\n",
    "    octaves = [img_tensor]\n",
    "    for _ in range(num_octave-1):\n",
    "        octaves.append(torch.tensor(nd.zoom(octaves[-1], (1, 1, 1./octave_scale, 1./octave_scale), order=1)))\n",
    "\n",
    "    detail = torch.zeros_like(octaves[-1])\n",
    "    for octave, octave_base in enumerate(octaves[::-1]):\n",
    "        h, w = octave_base.shape[-2:]\n",
    "        if octave > 0:\n",
    "            h1, w1 = detail.shape[-2:]\n",
    "            detail = torch.tensor(nd.zoom(detail, (1, 1, 1*h/h1, 1*w/w1), order=1))\n",
    "\n",
    "        img_tensor = (octave_base + detail).to(DEVICE)\n",
    "        for _ in range(iterations):\n",
    "            img_tensor = make_step(model, img_tensor, end, step)\n",
    "\n",
    "        detail = img_tensor.cpu() - octave_base\n",
    "\n",
    "    ret = img_tensor.data.squeeze()\n",
    "    ret = ret.transpose(0, 1)\n",
    "    ret = ret.transpose(1, 2)\n",
    "    ret = deprocess(ret).clamp(0, 1)\n",
    "\n",
    "    return Image.fromarray(np.uint8(ret.cpu() * 255))"
   ]
  },
  {
   "cell_type": "code",
   "execution_count": null,
   "metadata": {},
   "outputs": [],
   "source": [
    "image = Image.open('sky.jpg')\n",
    "deep_dream(model, image, end=\"inception4b\", iterations=10, step=0.3, octave_scale=1.4, num_octave=4)"
   ]
  }
 ],
 "metadata": {
  "kernelspec": {
   "display_name": "Python 3",
   "language": "python",
   "name": "python3"
  },
  "language_info": {
   "codemirror_mode": {
    "name": "ipython",
    "version": 3
   },
   "file_extension": ".py",
   "mimetype": "text/x-python",
   "name": "python",
   "nbconvert_exporter": "python",
   "pygments_lexer": "ipython3",
   "version": "3.7.6"
  }
 },
 "nbformat": 4,
 "nbformat_minor": 4
}
